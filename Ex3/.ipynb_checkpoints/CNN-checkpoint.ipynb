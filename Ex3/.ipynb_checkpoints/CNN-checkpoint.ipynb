{
 "cells": [
  {
   "cell_type": "code",
   "execution_count": 15,
   "id": "speaking-punch",
   "metadata": {},
   "outputs": [],
   "source": [
    "from keras.models import Sequential\n",
    "from keras.layers import Dropout, Dense, Flatten\n",
    "from keras.optimizers import SGD\n",
    "from keras.layers.convolutional import Conv2D, MaxPooling2D\n",
    "from keras.utils import np_utils as u\n",
    "from keras.datasets import cifar10"
   ]
  },
  {
   "cell_type": "code",
   "execution_count": 16,
   "id": "designed-blame",
   "metadata": {},
   "outputs": [],
   "source": [
    "#Sequential: Creates a linear stack of layers\n",
    "#Drouput: sẽ random node thành 0 => Giảm overfitting\n",
    "#Dense:  Fully-connected layer: Tương tự feedtoward and backprogation. output = activation(dot(input, weights) + bias)\n",
    "#Flatten: This rolls out our array into 2 dimensions, [numberOfData, features]\n",
    "#SGD: Stochastic Gradient Descent, this is the optimizer\n",
    "#Conv2D: This is the convolution layer\n",
    "#MaxPooling2D: This function performs max pooling\n",
    "#np_utils: Some tools to allow us to format our data\n",
    "#cifar10: This is the dataset we will be using"
   ]
  },
  {
   "cell_type": "code",
   "execution_count": 17,
   "id": "insured-vertex",
   "metadata": {},
   "outputs": [],
   "source": [
    " #Lets start by loading the Cifar10 data\n",
    "(X, y), (X_test, y_test) = cifar10.load_data()\n"
   ]
  },
  {
   "cell_type": "code",
   "execution_count": 18,
   "id": "respected-theta",
   "metadata": {},
   "outputs": [],
   "source": [
    "#Keep in mind the images are in RGB\n",
    "#So we can normalise the data by diving by 255\n",
    "#The data is in integers therefore we need to convert them to float first\n",
    "X, X_test = X.astype('float32')/255.0, X_test.astype('float32')/255.0\n",
    "#Then we convert the y values into one-hot vectors\n",
    "#The cifar10 has only 10 classes, thats is why we specify a one-hot\n",
    "#vector of width/class 10\n",
    "\n",
    "y, y_test = u.to_categorical(y, 10), u.to_categorical(y_test, 10)\n"
   ]
  },
  {
   "cell_type": "code",
   "execution_count": 19,
   "id": "found-hardware",
   "metadata": {},
   "outputs": [],
   "source": [
    " #Now we can go ahead and create our Convolution model\n",
    "model = Sequential()\n",
    "#We want to output 32 features maps. The kernel size is going to be\n",
    "#3x3 and we specify our input shape to be 32x32 with 3 channels\n",
    "#Padding=same means we want the same dimensional output as input\n",
    "#activation specifies the activation function\n",
    "model.add(Conv2D(32, (3, 3), input_shape=(32, 32, 3), padding='same',\n",
    "          activation='relu'))\n",
    "#20% of the nodes are set to 0\n",
    "model.add(Dropout(0.2))\n",
    "#now we add another convolution layer, again with a 3x3 kernel\n",
    "#This time our padding=valid this means that the output dimension can\n",
    "#take any form\n",
    "model.add(Conv2D(32, (3, 3), activation='relu', padding='valid'))\n",
    "#maxpool with a kernet of 2x2\n",
    "model.add(MaxPooling2D(pool_size=(2, 2)))\n",
    "#In a convolution NN, we neet to flatten our data before we can\n",
    "#input it into the ouput/dense layer\n",
    "model.add(Flatten())\n",
    "#Dense layer with 512 hidden units:  Fully-connected layer\n",
    "# relu activation làm cho các giá trị >=0 :max(0,x)\n",
    "model.add(Dense(512, activation='relu')) \n",
    "#this time we set 30% of the nodes to 0 to minimize overfitting\n",
    "model.add(Dropout(0.3))\n",
    "#Finally the output dense layer with 10 hidden units corresponding to\n",
    "#our 10 classe\n",
    "#softmax : exp(value) / sum v in list exp(v)\n",
    "model.add(Dense(10, activation='softmax'))\n",
    "#Few simple configurations\n",
    "model.compile(loss='categorical_crossentropy',optimizer=SGD(momentum=0.5, decay=0.0004))"
   ]
  },
  {
   "cell_type": "code",
   "execution_count": 22,
   "id": "fuzzy-idaho",
   "metadata": {},
   "outputs": [
    {
     "name": "stdout",
     "output_type": "stream",
     "text": [
      "(50000, 32, 32, 3)\n",
      "98/98 [==============================] - 53s 546ms/step - loss: 1.5923 - val_loss: 1.5957\n",
      "313/313 [==============================] - 3s 10ms/step - loss: 1.5957\n",
      "Loss value: 1.5956554412841797\n"
     ]
    },
    {
     "ename": "AttributeError",
     "evalue": "'Sequential' object has no attribute 'predic'",
     "output_type": "error",
     "traceback": [
      "\u001b[1;31m---------------------------------------------------------------------------\u001b[0m",
      "\u001b[1;31mAttributeError\u001b[0m                            Traceback (most recent call last)",
      "\u001b[1;32m<ipython-input-22-54f54aa44760>\u001b[0m in \u001b[0;36m<module>\u001b[1;34m\u001b[0m\n\u001b[0;32m     11\u001b[0m \u001b[1;33m\u001b[0m\u001b[0m\n\u001b[0;32m     12\u001b[0m \u001b[1;33m\u001b[0m\u001b[0m\n\u001b[1;32m---> 13\u001b[1;33m \u001b[0mprint\u001b[0m\u001b[1;33m(\u001b[0m\u001b[0mmodel\u001b[0m\u001b[1;33m.\u001b[0m\u001b[0mpredic\u001b[0m\u001b[1;33m(\u001b[0m\u001b[0mX_test\u001b[0m\u001b[1;33m)\u001b[0m\u001b[1;33m)\u001b[0m\u001b[1;33m\u001b[0m\u001b[1;33m\u001b[0m\u001b[0m\n\u001b[0m",
      "\u001b[1;31mAttributeError\u001b[0m: 'Sequential' object has no attribute 'predic'"
     ]
    }
   ],
   "source": [
    "#Run the algorithm!\n",
    "print(X.shape)\n",
    "model.fit(X, y, validation_data=(X_test, y_test), epochs=1,\n",
    "batch_size=512)\n",
    "#Save the weights to use for later\n",
    "model.save_weights(\"cifar10.hdf5\")\n",
    "#Finally print the accuracy of our model!\n",
    "\n",
    "\n",
    "print(\"Loss value:\", model.evaluate(X_test, y_test))\n",
    "\n",
    "\n",
    "print(model.predict(X_test))\n"
   ]
  },
  {
   "cell_type": "code",
   "execution_count": null,
   "id": "great-result",
   "metadata": {},
   "outputs": [],
   "source": []
  }
 ],
 "metadata": {
  "kernelspec": {
   "display_name": "Python 3",
   "language": "python",
   "name": "python3"
  },
  "language_info": {
   "codemirror_mode": {
    "name": "ipython",
    "version": 3
   },
   "file_extension": ".py",
   "mimetype": "text/x-python",
   "name": "python",
   "nbconvert_exporter": "python",
   "pygments_lexer": "ipython3",
   "version": "3.9.2"
  }
 },
 "nbformat": 4,
 "nbformat_minor": 5
}
